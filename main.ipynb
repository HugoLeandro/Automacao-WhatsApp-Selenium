{
 "cells": [
  {
   "cell_type": "code",
   "execution_count": null,
   "metadata": {},
   "outputs": [],
   "source": [
    "\n",
    "# Automação de Whatsapp - Encaminhamento de mensagens\n",
    "# Encaminhar para uma lista de contatos ou de grupos\n",
    "# Encaminhar de 5 em 5 contatos/grupos"
   ]
  },
  {
   "cell_type": "code",
   "execution_count": 4,
   "metadata": {},
   "outputs": [],
   "source": [
    "from selenium import webdriver\n",
    "from selenium.webdriver.chrome.service import Service\n",
    "from webdriver_manager.chrome import ChromeDriverManager\n",
    "\n",
    "service = Service(ChromeDriverManager().install())\n",
    "nav = webdriver.Chrome(service=service)\n",
    "nav.get(\"https://web.whatsapp.com\")"
   ]
  },
  {
   "cell_type": "code",
   "execution_count": 47,
   "metadata": {},
   "outputs": [],
   "source": [
    "from selenium.webdriver.common.keys import Keys\n",
    "import pyperclip\n",
    "import time\n",
    "\n",
    "mensagem = \"\"\"Bom dia. Essa mensagem é automática!\n",
    "\n",
    "\"\"\"\n",
    "\n",
    "lista_contatos = [\"try hard\", \"amigos de verdade\", \"amor\", \"try hard\", \"tia\", \"ronnyy\"]\n",
    "\n",
    "# enviar a mensagem para o Meu Numero para poder depois encaminhar\n",
    "\n",
    "# clicar na lupa\n",
    "nav.find_element('xpath', '//*[@id=\"side\"]/div[1]/div/div/button/div[2]/span').click()\n",
    "time.sleep(3)\n",
    "nav.find_element('xpath', '//*[@id=\"side\"]/div[1]/div/div/div[2]/div/div[1]/p').send_keys(\"try hard\")\n",
    "time.sleep(3)\n",
    "nav.find_element('xpath', '//*[@id=\"side\"]/div[1]/div/div/div[2]/div/div[1]/p').send_keys(Keys.ENTER)\n",
    "time.sleep(3)"
   ]
  },
  {
   "cell_type": "code",
   "execution_count": 48,
   "metadata": {},
   "outputs": [],
   "source": [
    "# escrever a mensagem para nós mesmos\n",
    "pyperclip.copy(mensagem)\n",
    "nav.find_element('xpath', '//*[@id=\"main\"]/footer/div[1]/div/span[2]/div/div[2]/div[1]/div/div[1]/p').send_keys(Keys.CONTROL + \"v\")\n",
    "time.sleep(3)\n",
    "nav.find_element('xpath', '//*[@id=\"main\"]/footer/div[1]/div/span[2]/div/div[2]/div[1]/div/div[1]/p').send_keys(Keys.ENTER)\n",
    "time.sleep(3)"
   ]
  },
  {
   "cell_type": "code",
   "execution_count": 52,
   "metadata": {},
   "outputs": [],
   "source": [
    "# encaminhar a mensagem para a lista de contatos\n",
    "from selenium.webdriver.common.action_chains import ActionChains\n",
    "\n",
    "qtde_contatos = len(lista_contatos)\n",
    "\n",
    "if qtde_contatos % 5 == 0:\n",
    "    qtde_blocos = qtde_contatos / 5\n",
    "else:\n",
    "    qtde_blocos = int(qtde_contatos / 5) + 1\n",
    "\n",
    "for i in range(qtde_blocos):\n",
    "    # rodar o codigo de encaminhar\n",
    "    i_inicial = i * 5\n",
    "    i_final = (i + 1) * 5\n",
    "    lista_enviar = lista_contatos[i_inicial:i_final]\n",
    "\n",
    "    # selecionar a mensagem para enviar e abre a caixa de encaminhar\n",
    "    lista_elementos = nav.find_elements('class name', '_2AOIt') \n",
    "    for item in lista_elementos:\n",
    "        mensagem = mensagem.replace(\"\\n\", \"\")\n",
    "        texto = item.text.replace(\"\\n\", \"\")\n",
    "        if mensagem in texto:\n",
    "            elemento = item\n",
    "\n",
    "        \n",
    "    ActionChains(nav).move_to_element(elemento).perform()\n",
    "\n",
    "    elemento = WebDriverWait(nav, 10).until(\n",
    "    EC.presence_of_element_located(('class name', '_3u9t-'))\n",
    ")\n",
    "    elemento.click()\n",
    "    \n",
    "    #elemento.find_element('class name', '_3u9t-').click()\n",
    "    time.sleep(3)\n",
    "    nav.find_element('xpath', '//*[@id=\"app\"]/div/span[4]/div/ul/div/li[4]/div').click()\n",
    "    time.sleep(3)\n",
    "    nav.find_element('xpath', '//*[@id=\"main\"]/span[2]/div/button[4]/span').click()\n",
    "    time.sleep(3)\n",
    "\n",
    "    for nome in lista_enviar:\n",
    "        # selecionar os 5 contatos para enviar\n",
    "        # escrever o nome do contato\n",
    "        nav.find_element('xpath', '//*[@id=\"app\"]/div/span[2]/div/div/div/div/div/div/div/div[1]/div/div/div[2]/div/div[1]/p').send_keys(nome)\n",
    "        time.sleep(3)\n",
    "        # dar enter\n",
    "        nav.find_element('xpath', '//*[@id=\"app\"]/div/span[2]/div/div/div/div/div/div/div/div[1]/div/div/div[2]/div/div[1]/p').send_keys(Keys.ENTER)\n",
    "        time.sleep(3)\n",
    "        # apagar o nome do contato\n",
    "        nav.find_element('xpath', '//*[@id=\"app\"]/div/span[2]/div/div/div/div/div/div/div/div[1]/div/div/div[2]/div/div[1]/p').send_keys(Keys.BACKSPACE)\n",
    "        time.sleep(3)\n",
    "\n",
    "    nav.find_element('xpath', '//*[@id=\"app\"]/div/span[2]/div/div/div/div/div/div/div/span/div/div/div/span').click()\n",
    "time.sleep(4)"
   ]
  }
 ],
 "metadata": {
  "kernelspec": {
   "display_name": "Python 3",
   "language": "python",
   "name": "python3"
  },
  "language_info": {
   "codemirror_mode": {
    "name": "ipython",
    "version": 3
   },
   "file_extension": ".py",
   "mimetype": "text/x-python",
   "name": "python",
   "nbconvert_exporter": "python",
   "pygments_lexer": "ipython3",
   "version": "3.10.7"
  },
  "orig_nbformat": 4
 },
 "nbformat": 4,
 "nbformat_minor": 2
}
