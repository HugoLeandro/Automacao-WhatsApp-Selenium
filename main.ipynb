{
 "cells": [
  {
   "cell_type": "code",
   "execution_count": null,
   "metadata": {},
   "outputs": [],
   "source": [
    "\n",
    "# Automação de Whatsapp - Encaminhamento de mensagens\n",
    "# Encaminhar para uma lista de contatos ou de grupos\n",
    "# Encaminhar de 5 em 5 contatos/grupos"
   ]
  },
  {
   "cell_type": "code",
   "execution_count": 4,
   "metadata": {},
   "outputs": [],
   "source": [
    "from selenium import webdriver\n",
    "from selenium.webdriver.chrome.service import Service\n",
    "from webdriver_manager.chrome import ChromeDriverManager\n",
    "\n",
    "service = Service(ChromeDriverManager().install())\n",
    "nav = webdriver.Chrome(service=service)\n",
    "nav.get(\"https://web.whatsapp.com\")"
   ]
  },
  {
   "cell_type": "code",
   "execution_count": 47,
   "metadata": {},
   "outputs": [],
   "source": [
    "from selenium.webdriver.common.keys import Keys\n",
    "import pyperclip\n",
    "import time\n",
    "\n",
    "mensagem = \"\"\"Bom dia. Essa mensagem é automática!\n",
    "\n",
    "\"\"\"\n",
    "\n",
    "lista_contatos = [\"try hard\", \"amigos de verdade\", \"amor\", \"try hard\", \"tia\", \"ronnyy\"]\n",
    "\n",
    "# enviar a mensagem para o Meu Numero para poder depois encaminhar\n",
    "\n",
    "# clicar na lupa\n",
    "nav.find_element('xpath', '//*[@id=\"side\"]/div[1]/div/div/button/div[2]/span').click()\n",
    "time.sleep(3)\n",
    "nav.find_element('xpath', '//*[@id=\"side\"]/div[1]/div/div/div[2]/div/div[1]/p').send_keys(\"try hard\")\n",
    "time.sleep(3)\n",
    "nav.find_element('xpath', '//*[@id=\"side\"]/div[1]/div/div/div[2]/div/div[1]/p').send_keys(Keys.ENTER)\n",
    "time.sleep(3)"
   ]
  },
  {
   "cell_type": "code",
   "execution_count": 48,
   "metadata": {},
   "outputs": [],
   "source": [
    "# escrever a mensagem para nós mesmos\n",
    "pyperclip.copy(mensagem)\n",
    "nav.find_element('xpath', '//*[@id=\"main\"]/footer/div[1]/div/span[2]/div/div[2]/div[1]/div/div[1]/p').send_keys(Keys.CONTROL + \"v\")\n",
    "time.sleep(3)\n",
    "nav.find_element('xpath', '//*[@id=\"main\"]/footer/div[1]/div/span[2]/div/div[2]/div[1]/div/div[1]/p').send_keys(Keys.ENTER)\n",
    "time.sleep(3)"
   ]
  },
  {
   "cell_type": "code",
   "execution_count": 51,
   "metadata": {},
   "outputs": [
    {
     "ename": "NoSuchElementException",
     "evalue": "Message: no such element: Unable to locate element: {\"method\":\"css selector\",\"selector\":\"._3u9t-\"}\n  (Session info: chrome=117.0.5938.149); For documentation on this error, please visit: https://www.selenium.dev/documentation/webdriver/troubleshooting/errors#no-such-element-exception\nStacktrace:\n\tGetHandleVerifier [0x004CCFE3+45267]\n\t(No symbol) [0x00459741]\n\t(No symbol) [0x0034BE1D]\n\t(No symbol) [0x0037ED30]\n\t(No symbol) [0x0037F1FB]\n\t(No symbol) [0x00378041]\n\t(No symbol) [0x0039B084]\n\t(No symbol) [0x00377F96]\n\t(No symbol) [0x0039B2B4]\n\t(No symbol) [0x003ADDDA]\n\t(No symbol) [0x0039AE36]\n\t(No symbol) [0x0037674E]\n\t(No symbol) [0x003778ED]\n\tGetHandleVerifier [0x00785659+2897737]\n\tGetHandleVerifier [0x007CE78B+3197051]\n\tGetHandleVerifier [0x007C8571+3171937]\n\tGetHandleVerifier [0x00555E40+606000]\n\t(No symbol) [0x0046338C]\n\t(No symbol) [0x0045F508]\n\t(No symbol) [0x0045F62F]\n\t(No symbol) [0x00451D27]\n\tBaseThreadInitThunk [0x77667BA9+25]\n\tRtlInitializeExceptionChain [0x7789B79B+107]\n\tRtlClearBits [0x7789B71F+191]\n",
     "output_type": "error",
     "traceback": [
      "\u001b[1;31m---------------------------------------------------------------------------\u001b[0m",
      "\u001b[1;31mNoSuchElementException\u001b[0m                    Traceback (most recent call last)",
      "\u001b[1;32mc:\\Users\\hugo\\Documents\\Automação WhatsApp\\main.ipynb Célula 5\u001b[0m line \u001b[0;36m2\n\u001b[0;32m     <a href='vscode-notebook-cell:/c%3A/Users/hugo/Documents/Automa%C3%A7%C3%A3o%20WhatsApp/main.ipynb#X11sZmlsZQ%3D%3D?line=22'>23</a>\u001b[0m         elemento \u001b[39m=\u001b[39m item\n\u001b[0;32m     <a href='vscode-notebook-cell:/c%3A/Users/hugo/Documents/Automa%C3%A7%C3%A3o%20WhatsApp/main.ipynb#X11sZmlsZQ%3D%3D?line=25'>26</a>\u001b[0m ActionChains(nav)\u001b[39m.\u001b[39mmove_to_element(elemento)\u001b[39m.\u001b[39mperform()\n\u001b[1;32m---> <a href='vscode-notebook-cell:/c%3A/Users/hugo/Documents/Automa%C3%A7%C3%A3o%20WhatsApp/main.ipynb#X11sZmlsZQ%3D%3D?line=26'>27</a>\u001b[0m elemento\u001b[39m.\u001b[39;49mfind_element(\u001b[39m'\u001b[39;49m\u001b[39mclass name\u001b[39;49m\u001b[39m'\u001b[39;49m, \u001b[39m'\u001b[39;49m\u001b[39m_3u9t-\u001b[39;49m\u001b[39m'\u001b[39;49m)\u001b[39m.\u001b[39mclick()\n\u001b[0;32m     <a href='vscode-notebook-cell:/c%3A/Users/hugo/Documents/Automa%C3%A7%C3%A3o%20WhatsApp/main.ipynb#X11sZmlsZQ%3D%3D?line=27'>28</a>\u001b[0m time\u001b[39m.\u001b[39msleep(\u001b[39m3\u001b[39m)\n\u001b[0;32m     <a href='vscode-notebook-cell:/c%3A/Users/hugo/Documents/Automa%C3%A7%C3%A3o%20WhatsApp/main.ipynb#X11sZmlsZQ%3D%3D?line=28'>29</a>\u001b[0m nav\u001b[39m.\u001b[39mfind_element(\u001b[39m'\u001b[39m\u001b[39mxpath\u001b[39m\u001b[39m'\u001b[39m, \u001b[39m'\u001b[39m\u001b[39m//*[@id=\u001b[39m\u001b[39m\"\u001b[39m\u001b[39mapp\u001b[39m\u001b[39m\"\u001b[39m\u001b[39m]/div/span[4]/div/ul/div/li[4]/div\u001b[39m\u001b[39m'\u001b[39m)\u001b[39m.\u001b[39mclick()\n",
      "File \u001b[1;32mc:\\Users\\hugo\\AppData\\Local\\Programs\\Python\\Python310\\lib\\site-packages\\selenium\\webdriver\\remote\\webelement.py:417\u001b[0m, in \u001b[0;36mWebElement.find_element\u001b[1;34m(self, by, value)\u001b[0m\n\u001b[0;32m    414\u001b[0m     by \u001b[39m=\u001b[39m By\u001b[39m.\u001b[39mCSS_SELECTOR\n\u001b[0;32m    415\u001b[0m     value \u001b[39m=\u001b[39m \u001b[39mf\u001b[39m\u001b[39m'\u001b[39m\u001b[39m[name=\u001b[39m\u001b[39m\"\u001b[39m\u001b[39m{\u001b[39;00mvalue\u001b[39m}\u001b[39;00m\u001b[39m\"\u001b[39m\u001b[39m]\u001b[39m\u001b[39m'\u001b[39m\n\u001b[1;32m--> 417\u001b[0m \u001b[39mreturn\u001b[39;00m \u001b[39mself\u001b[39;49m\u001b[39m.\u001b[39;49m_execute(Command\u001b[39m.\u001b[39;49mFIND_CHILD_ELEMENT, {\u001b[39m\"\u001b[39;49m\u001b[39musing\u001b[39;49m\u001b[39m\"\u001b[39;49m: by, \u001b[39m\"\u001b[39;49m\u001b[39mvalue\u001b[39;49m\u001b[39m\"\u001b[39;49m: value})[\u001b[39m\"\u001b[39m\u001b[39mvalue\u001b[39m\u001b[39m\"\u001b[39m]\n",
      "File \u001b[1;32mc:\\Users\\hugo\\AppData\\Local\\Programs\\Python\\Python310\\lib\\site-packages\\selenium\\webdriver\\remote\\webelement.py:395\u001b[0m, in \u001b[0;36mWebElement._execute\u001b[1;34m(self, command, params)\u001b[0m\n\u001b[0;32m    393\u001b[0m     params \u001b[39m=\u001b[39m {}\n\u001b[0;32m    394\u001b[0m params[\u001b[39m\"\u001b[39m\u001b[39mid\u001b[39m\u001b[39m\"\u001b[39m] \u001b[39m=\u001b[39m \u001b[39mself\u001b[39m\u001b[39m.\u001b[39m_id\n\u001b[1;32m--> 395\u001b[0m \u001b[39mreturn\u001b[39;00m \u001b[39mself\u001b[39;49m\u001b[39m.\u001b[39;49m_parent\u001b[39m.\u001b[39;49mexecute(command, params)\n",
      "File \u001b[1;32mc:\\Users\\hugo\\AppData\\Local\\Programs\\Python\\Python310\\lib\\site-packages\\selenium\\webdriver\\remote\\webdriver.py:346\u001b[0m, in \u001b[0;36mWebDriver.execute\u001b[1;34m(self, driver_command, params)\u001b[0m\n\u001b[0;32m    344\u001b[0m response \u001b[39m=\u001b[39m \u001b[39mself\u001b[39m\u001b[39m.\u001b[39mcommand_executor\u001b[39m.\u001b[39mexecute(driver_command, params)\n\u001b[0;32m    345\u001b[0m \u001b[39mif\u001b[39;00m response:\n\u001b[1;32m--> 346\u001b[0m     \u001b[39mself\u001b[39;49m\u001b[39m.\u001b[39;49merror_handler\u001b[39m.\u001b[39;49mcheck_response(response)\n\u001b[0;32m    347\u001b[0m     response[\u001b[39m\"\u001b[39m\u001b[39mvalue\u001b[39m\u001b[39m\"\u001b[39m] \u001b[39m=\u001b[39m \u001b[39mself\u001b[39m\u001b[39m.\u001b[39m_unwrap_value(response\u001b[39m.\u001b[39mget(\u001b[39m\"\u001b[39m\u001b[39mvalue\u001b[39m\u001b[39m\"\u001b[39m, \u001b[39mNone\u001b[39;00m))\n\u001b[0;32m    348\u001b[0m     \u001b[39mreturn\u001b[39;00m response\n",
      "File \u001b[1;32mc:\\Users\\hugo\\AppData\\Local\\Programs\\Python\\Python310\\lib\\site-packages\\selenium\\webdriver\\remote\\errorhandler.py:245\u001b[0m, in \u001b[0;36mErrorHandler.check_response\u001b[1;34m(self, response)\u001b[0m\n\u001b[0;32m    243\u001b[0m         alert_text \u001b[39m=\u001b[39m value[\u001b[39m\"\u001b[39m\u001b[39malert\u001b[39m\u001b[39m\"\u001b[39m]\u001b[39m.\u001b[39mget(\u001b[39m\"\u001b[39m\u001b[39mtext\u001b[39m\u001b[39m\"\u001b[39m)\n\u001b[0;32m    244\u001b[0m     \u001b[39mraise\u001b[39;00m exception_class(message, screen, stacktrace, alert_text)  \u001b[39m# type: ignore[call-arg]  # mypy is not smart enough here\u001b[39;00m\n\u001b[1;32m--> 245\u001b[0m \u001b[39mraise\u001b[39;00m exception_class(message, screen, stacktrace)\n",
      "\u001b[1;31mNoSuchElementException\u001b[0m: Message: no such element: Unable to locate element: {\"method\":\"css selector\",\"selector\":\"._3u9t-\"}\n  (Session info: chrome=117.0.5938.149); For documentation on this error, please visit: https://www.selenium.dev/documentation/webdriver/troubleshooting/errors#no-such-element-exception\nStacktrace:\n\tGetHandleVerifier [0x004CCFE3+45267]\n\t(No symbol) [0x00459741]\n\t(No symbol) [0x0034BE1D]\n\t(No symbol) [0x0037ED30]\n\t(No symbol) [0x0037F1FB]\n\t(No symbol) [0x00378041]\n\t(No symbol) [0x0039B084]\n\t(No symbol) [0x00377F96]\n\t(No symbol) [0x0039B2B4]\n\t(No symbol) [0x003ADDDA]\n\t(No symbol) [0x0039AE36]\n\t(No symbol) [0x0037674E]\n\t(No symbol) [0x003778ED]\n\tGetHandleVerifier [0x00785659+2897737]\n\tGetHandleVerifier [0x007CE78B+3197051]\n\tGetHandleVerifier [0x007C8571+3171937]\n\tGetHandleVerifier [0x00555E40+606000]\n\t(No symbol) [0x0046338C]\n\t(No symbol) [0x0045F508]\n\t(No symbol) [0x0045F62F]\n\t(No symbol) [0x00451D27]\n\tBaseThreadInitThunk [0x77667BA9+25]\n\tRtlInitializeExceptionChain [0x7789B79B+107]\n\tRtlClearBits [0x7789B71F+191]\n"
     ]
    }
   ],
   "source": [
    "# encaminhar a mensagem para a lista de contatos\n",
    "from selenium.webdriver.common.action_chains import ActionChains\n",
    "\n",
    "qtde_contatos = len(lista_contatos)\n",
    "\n",
    "if qtde_contatos % 5 == 0:\n",
    "    qtde_blocos = qtde_contatos / 5\n",
    "else:\n",
    "    qtde_blocos = int(qtde_contatos / 5) + 1\n",
    "\n",
    "for i in range(qtde_blocos):\n",
    "    # rodar o codigo de encaminhar\n",
    "    i_inicial = i * 5\n",
    "    i_final = (i + 1) * 5\n",
    "    lista_enviar = lista_contatos[i_inicial:i_final]\n",
    "\n",
    "    # selecionar a mensagem para enviar e abre a caixa de encaminhar\n",
    "    lista_elementos = nav.find_elements('class name', '_2AOIt') \n",
    "    for item in lista_elementos:\n",
    "        mensagem = mensagem.replace(\"\\n\", \"\")\n",
    "        texto = item.text.replace(\"\\n\", \"\")\n",
    "        if mensagem in texto:\n",
    "            elemento = item\n",
    "\n",
    "        \n",
    "    ActionChains(nav).move_to_element(elemento).perform()\n",
    "    elemento.find_element('class name', '_3u9t-').click()\n",
    "    time.sleep(3)\n",
    "    nav.find_element('xpath', '//*[@id=\"app\"]/div/span[4]/div/ul/div/li[4]/div').click()\n",
    "    time.sleep(3)\n",
    "    nav.find_element('xpath', '//*[@id=\"main\"]/span[2]/div/button[4]/span').click()\n",
    "    time.sleep(3)\n",
    "\n",
    "    for nome in lista_enviar:\n",
    "        # selecionar os 5 contatos para enviar\n",
    "        # escrever o nome do contato\n",
    "        nav.find_element('xpath', '//*[@id=\"app\"]/div/span[2]/div/div/div/div/div/div/div/div[1]/div/div/div[2]/div/div[1]/p').send_keys(nome)\n",
    "        time.sleep(3)\n",
    "        # dar enter\n",
    "        nav.find_element('xpath', '//*[@id=\"app\"]/div/span[2]/div/div/div/div/div/div/div/div[1]/div/div/div[2]/div/div[1]/p').send_keys(Keys.ENTER)\n",
    "        time.sleep(3)\n",
    "        # apagar o nome do contato\n",
    "        nav.find_element('xpath', '//*[@id=\"app\"]/div/span[2]/div/div/div/div/div/div/div/div[1]/div/div/div[2]/div/div[1]/p').send_keys(Keys.BACKSPACE)\n",
    "        time.sleep(3)\n",
    "\n",
    "    nav.find_element('xpath', '//*[@id=\"app\"]/div/span[2]/div/div/div/div/div/div/div/span/div/div/div/span').click()\n",
    "    time.sleep(4)"
   ]
  }
 ],
 "metadata": {
  "kernelspec": {
   "display_name": "Python 3",
   "language": "python",
   "name": "python3"
  },
  "language_info": {
   "codemirror_mode": {
    "name": "ipython",
    "version": 3
   },
   "file_extension": ".py",
   "mimetype": "text/x-python",
   "name": "python",
   "nbconvert_exporter": "python",
   "pygments_lexer": "ipython3",
   "version": "3.10.7"
  },
  "orig_nbformat": 4
 },
 "nbformat": 4,
 "nbformat_minor": 2
}
